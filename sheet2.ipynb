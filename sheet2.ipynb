{
  "nbformat": 4,
  "nbformat_minor": 0,
  "metadata": {
    "colab": {
      "name": "sheet2.ipynb",
      "provenance": [],
      "collapsed_sections": [],
      "include_colab_link": true
    },
    "kernelspec": {
      "name": "python3",
      "display_name": "Python 3"
    }
  },
  "cells": [
    {
      "cell_type": "markdown",
      "metadata": {
        "id": "view-in-github",
        "colab_type": "text"
      },
      "source": [
        "<a href=\"https://colab.research.google.com/github/Mobad225/LDA-and-K-means/blob/master/sheet2.ipynb\" target=\"_parent\"><img src=\"https://colab.research.google.com/assets/colab-badge.svg\" alt=\"Open In Colab\"/></a>"
      ]
    },
    {
      "cell_type": "code",
      "metadata": {
        "id": "qCPMt84JzAZd",
        "colab_type": "code",
        "colab": {}
      },
      "source": [
        "import numpy as np\n",
        "import math\n",
        "u1 = np.array([[3], [4] ,[0]])\n",
        "u2 = np.array([[-4], [3] ,[0]])"
      ],
      "execution_count": 0,
      "outputs": []
    },
    {
      "cell_type": "markdown",
      "metadata": {
        "id": "4Yg-Ukmt2Fja",
        "colab_type": "text"
      },
      "source": [
        "# Show that both vectors are orthogonal"
      ]
    },
    {
      "cell_type": "code",
      "metadata": {
        "id": "tSKoRIiV1eDn",
        "colab_type": "code",
        "outputId": "204674a0-0231-4dae-cd9d-1ceeef4f5889",
        "colab": {
          "base_uri": "https://localhost:8080/",
          "height": 34
        }
      },
      "source": [
        "cos = u1.T.dot(u2)\n",
        "print(cos)"
      ],
      "execution_count": 246,
      "outputs": [
        {
          "output_type": "stream",
          "text": [
            "[[0]]\n"
          ],
          "name": "stdout"
        }
      ]
    },
    {
      "cell_type": "markdown",
      "metadata": {
        "id": "8jGNhPDvF6Qz",
        "colab_type": "text"
      },
      "source": [
        "Cos(theta) = $\\frac{U_{1} . U_{2}}{|U_{1} | . | U_{2}|}$, Since $U_{1}$ . $U_{2}$ = 0, Then Cos(Theta) = 0 and they are orthogonal"
      ]
    },
    {
      "cell_type": "markdown",
      "metadata": {
        "id": "imYFTGV0G_T9",
        "colab_type": "text"
      },
      "source": [
        "# Find the projection on $U_{1}$ and $U_{2}$"
      ]
    },
    {
      "cell_type": "code",
      "metadata": {
        "id": "um4OToWj3kx_",
        "colab_type": "code",
        "outputId": "51eb2e44-44f7-4cd5-e054-edc552567177",
        "colab": {
          "base_uri": "https://localhost:8080/",
          "height": 170
        }
      },
      "source": [
        "y = np.array([[6], [3], [-2]])\n",
        "# Normalize U1 and U2\n",
        "u1_unit = u1 / np.linalg.norm(u1)\n",
        "u2_unit = u2 / np.linalg.norm(u2)\n",
        "print(\"Projection on U1\")\n",
        "proj_y_u1 = u1_unit.T.dot(y) * u1_unit\n",
        "print(proj_y_u1, \"Projection on U2\",sep = '\\n\\n')\n",
        "proj_y_u2 = u2_unit.T.dot(y) * u2_unit\n",
        "print(proj_y_u2)"
      ],
      "execution_count": 247,
      "outputs": [
        {
          "output_type": "stream",
          "text": [
            "Projection on U1\n",
            "[[3.6]\n",
            " [4.8]\n",
            " [0. ]]\n",
            "\n",
            "Projection on U2\n",
            "[[ 2.4]\n",
            " [-1.8]\n",
            " [-0. ]]\n"
          ],
          "name": "stdout"
        }
      ]
    },
    {
      "cell_type": "markdown",
      "metadata": {
        "id": "zHZbAboAOgrE",
        "colab_type": "text"
      },
      "source": [
        "# LDA"
      ]
    },
    {
      "cell_type": "code",
      "metadata": {
        "id": "g_fVXlt0HOzH",
        "colab_type": "code",
        "colab": {}
      },
      "source": [
        "import pandas as pd\n",
        "data1 = np.array([(2, 3, 3, 5, 7),(3, 3, 4, 8, 7)]).T\n",
        "data2 = np.array([(5, 6, 7, 7, 8, 9),(4, 5, 4, 5, 2, 4)]).T"
      ],
      "execution_count": 0,
      "outputs": []
    },
    {
      "cell_type": "markdown",
      "metadata": {
        "id": "9ieUvxYuOpzw",
        "colab_type": "text"
      },
      "source": [
        "## Find M1 , M2 & Between-class Scatter Matrix "
      ]
    },
    {
      "cell_type": "code",
      "metadata": {
        "id": "_mGD7TBDbGJS",
        "colab_type": "code",
        "outputId": "6eedef33-586b-4e5a-81bb-e83898ac6829",
        "colab": {
          "base_uri": "https://localhost:8080/",
          "height": 102
        }
      },
      "source": [
        "mean1 = data1.mean(0)\n",
        "mean2 = data2.mean(0)\n",
        "print('M1 = ', mean1, '\\tM2 = ', mean2, end = '\\n\\n')\n",
        "diff = np.matrix(mean1 - mean2)\n",
        "B = diff.T.dot(diff)\n",
        "print('Between-class Scatter Matrix : ', B, sep = '\\n')"
      ],
      "execution_count": 249,
      "outputs": [
        {
          "output_type": "stream",
          "text": [
            "M1 =  [4. 5.] \tM2 =  [7. 4.]\n",
            "\n",
            "Between-class Scatter Matrix : \n",
            "[[ 9. -3.]\n",
            " [-3.  1.]]\n"
          ],
          "name": "stdout"
        }
      ]
    },
    {
      "cell_type": "markdown",
      "metadata": {
        "id": "_pOVEpP_fy4s",
        "colab_type": "text"
      },
      "source": [
        "# Find best direction w, Sketch it"
      ]
    },
    {
      "cell_type": "code",
      "metadata": {
        "id": "J2yTl-4pbOBI",
        "colab_type": "code",
        "colab": {}
      },
      "source": [
        "S_inv = np.matrix('0.056, -0.029; -0.029, 0.052')\n",
        "A = S_inv.dot(B)\n",
        "e_vals, e_vects = np.linalg.eig(A)\n",
        "e_vects = e_vects\n",
        "idx = e_vals.argsort()[::-1]   \n",
        "e_vals = e_vals[idx]\n",
        "e_vects = e_vects[:,idx]\n",
        "dim = e_vects[:,:1]"
      ],
      "execution_count": 0,
      "outputs": []
    },
    {
      "cell_type": "code",
      "metadata": {
        "id": "9z_ozcLzjhj5",
        "colab_type": "code",
        "outputId": "1634696a-5d0c-4763-b712-9f52979418fe",
        "colab": {
          "base_uri": "https://localhost:8080/",
          "height": 265
        }
      },
      "source": [
        "import matplotlib.pyplot as plt\n",
        "dim = np.array(dim)\n",
        "origin = [0], [0]\n",
        "x = np.linspace(0, 11, 1000)\n",
        "y = (dim[1]/ dim[0]) * x;\n",
        "plt.scatter(data1[: , 0], data1[: ,1], c = 'b')\n",
        "plt.scatter(data2[: , 0], data2[: ,1], c = 'g')\n",
        "plt.scatter(mean1[0], mean1[1], c = 'black')\n",
        "plt.scatter(mean2[0], mean2[1], c = 'yellow')\n",
        "plt.plot(x, y + 7, c = 'r')\n",
        "plt.show()\n",
        "plt.close()"
      ],
      "execution_count": 251,
      "outputs": [
        {
          "output_type": "display_data",
          "data": {
            "image/png": "[encoded data removed]",
            "text/plain": [
              "<Figure size 432x288 with 1 Axes>"
            ]
          },
          "metadata": {
            "tags": []
          }
        }
      ]
    },
    {
      "cell_type": "markdown",
      "metadata": {
        "id": "be_Z8Y7RZ7AG",
        "colab_type": "text"
      },
      "source": [
        "# Question 3) LDA (Midterm)"
      ]
    },
    {
      "cell_type": "code",
      "metadata": {
        "id": "XD_0pc6saBn8",
        "colab_type": "code",
        "colab": {
          "base_uri": "https://localhost:8080/",
          "height": 281
        },
        "outputId": "4dfb77e8-01a6-425f-af37-0f3bf45bee2d"
      },
      "source": [
        "data1 = np.array([(1, 2, 1),(1, 1, 2)]).T\n",
        "data2 = np.array([(2, 3),(2, 2)]).T\n",
        "plt.scatter(data1[:,0], data1[:,1], color = 'r')\n",
        "plt.scatter(data2[:,0], data2[:,1], color = 'b')\n",
        "plt.title('Original Data')\n",
        "plt.show()\n",
        "plt.close()"
      ],
      "execution_count": 252,
      "outputs": [
        {
          "output_type": "display_data",
          "data": {
            "image/png": "[encoded data removed]",
            "text/plain": [
              "<Figure size 432x288 with 1 Axes>"
            ]
          },
          "metadata": {
            "tags": []
          }
        }
      ]
    },
    {
      "cell_type": "code",
      "metadata": {
        "id": "_dTrUmgaaseZ",
        "colab_type": "code",
        "colab": {}
      },
      "source": [
        "mean1, mean2 = data1.mean(0), data2.mean(0)\n",
        "#Computing Between-class scatter Matrix 'B'\n",
        "diff = np.matrix(mean1 - mean2).T\n",
        "B = diff.dot(diff.T)\n",
        "#Computing Within-class scatter Matrix 'S'\n",
        "#First center the data\n",
        "data1_centered, data2_centered = np.zeros_like(data1).astype(float), np.zeros_like(data2).astype(float)\n",
        "for i in range(len(data1)):\n",
        "  data1_centered[i] = data1[i] - mean1\n",
        "for i in range(len(data2)):\n",
        "  data2_centered[i] = data2[i] - mean2\n",
        "S1 = data1_centered.T.dot(data1_centered)\n",
        "S2 = data2_centered.T.dot(data2_centered)\n",
        "S = S1 + S2\n",
        "#Get S inverse\n",
        "S_inv = np.linalg.inv(S)\n",
        "#Get S_inv * B, and solve for largest eigenvalue\n",
        "A = S_inv.dot(B)\n",
        "v, w = np.linalg.eig(A)\n",
        "idx = v.argsort()[::-1]   \n",
        "v = v[idx]\n",
        "w = w[:,idx]\n",
        "best_w = np.array(w[:,0])"
      ],
      "execution_count": 0,
      "outputs": []
    },
    {
      "cell_type": "markdown",
      "metadata": {
        "id": "FxfXbO2Fhf2t",
        "colab_type": "text"
      },
      "source": [
        "## Printing data + direction that splits the data"
      ]
    },
    {
      "cell_type": "code",
      "metadata": {
        "id": "kY3yUs__hfHg",
        "colab_type": "code",
        "colab": {
          "base_uri": "https://localhost:8080/",
          "height": 265
        },
        "outputId": "a86344d4-6dde-49fa-8a97-4642154149b9"
      },
      "source": [
        "plt.scatter(data1[:,0], data1[:,1], color = 'r', label = 'class 1')\n",
        "plt.scatter(data2[:,0], data2[:,1], color = 'b', label = 'class 2')\n",
        "x = np.linspace(0, 4, 1000)\n",
        "y = (best_w[1]/ best_w[0]) * x;\n",
        "plt.plot(x, y, color = 'yellow')\n",
        "plt.legend()\n",
        "plt.show()\n",
        "plt.close()"
      ],
      "execution_count": 254,
      "outputs": [
        {
          "output_type": "display_data",
          "data": {
            "image/png": "[encoded data removed]",
            "text/plain": [
              "<Figure size 432x288 with 1 Axes>"
            ]
          },
          "metadata": {
            "tags": []
          }
        }
      ]
    },
    {
      "cell_type": "markdown",
      "metadata": {
        "id": "kec8HiXMwlbv",
        "colab_type": "text"
      },
      "source": [
        "### a) $M_{1}$ and $M_{2}$ and B"
      ]
    },
    {
      "cell_type": "code",
      "metadata": {
        "id": "y85gPTUXwOdR",
        "colab_type": "code",
        "colab": {
          "base_uri": "https://localhost:8080/",
          "height": 102
        },
        "outputId": "0b17fadc-d4ac-4a4b-c221-60019ac396a4"
      },
      "source": [
        "print('Mean1 : ', mean1, ' & Mean2 = ', mean2, end = '\\n\\n')\n",
        "print('Between-class Scatter Matrix :', B, sep = '\\n')"
      ],
      "execution_count": 255,
      "outputs": [
        {
          "output_type": "stream",
          "text": [
            "Mean1 :  [1.33333333 1.33333333]  & Mean2 =  [2.5 2. ]\n",
            "\n",
            "Between-class Scatter Matrix :\n",
            "[[1.36111111 0.77777778]\n",
            " [0.77777778 0.44444444]]\n"
          ],
          "name": "stdout"
        }
      ]
    },
    {
      "cell_type": "markdown",
      "metadata": {
        "id": "nCILFcQCxAvy",
        "colab_type": "text"
      },
      "source": [
        "### b) $S_{1}$, $S_{2}$ and Within-Class Scatter Matrix 'S'"
      ]
    },
    {
      "cell_type": "code",
      "metadata": {
        "id": "60ipKaYnwxSJ",
        "colab_type": "code",
        "colab": {
          "base_uri": "https://localhost:8080/",
          "height": 170
        },
        "outputId": "5e493afb-7a13-490e-eda0-c96c2a2d319b"
      },
      "source": [
        "print('S1 : ', S1, 'S2 :', S2, 'S :', S, sep = '\\n')"
      ],
      "execution_count": 256,
      "outputs": [
        {
          "output_type": "stream",
          "text": [
            "S1 : \n",
            "[[ 0.66666667 -0.33333333]\n",
            " [-0.33333333  0.66666667]]\n",
            "S2 :\n",
            "[[0.5 0. ]\n",
            " [0.  0. ]]\n",
            "S :\n",
            "[[ 1.16666667 -0.33333333]\n",
            " [-0.33333333  0.66666667]]\n"
          ],
          "name": "stdout"
        }
      ]
    },
    {
      "cell_type": "markdown",
      "metadata": {
        "id": "ZpBfWe-vxXW-",
        "colab_type": "text"
      },
      "source": [
        "### c) Drawing the direction is done above."
      ]
    },
    {
      "cell_type": "markdown",
      "metadata": {
        "id": "ULrVb_Wft3-u",
        "colab_type": "text"
      },
      "source": [
        "# K-means Clustering"
      ]
    },
    {
      "cell_type": "code",
      "metadata": {
        "id": "G-C9qBMmuCQc",
        "colab_type": "code",
        "colab": {
          "base_uri": "https://localhost:8080/",
          "height": 281
        },
        "outputId": "e952c829-b16a-4f31-b9f2-66b5924a85b1"
      },
      "source": [
        "from collections import defaultdict\n",
        "data = np.array([(2, 2, 8, 5, 7, 6, 1, 4),(10, 5, 4, 8, 5, 4, 2, 9)]).T\n",
        "plt.scatter(data[:,0], data[:,1])\n",
        "plt.title('Original data to be clustered')\n",
        "plt.show()\n",
        "plt.close()"
      ],
      "execution_count": 257,
      "outputs": [
        {
          "output_type": "display_data",
          "data": {
            "image/png": "[encoded data removed]",
            "text/plain": [
              "<Figure size 432x288 with 1 Axes>"
            ]
          },
          "metadata": {
            "tags": []
          }
        }
      ]
    },
    {
      "cell_type": "code",
      "metadata": {
        "id": "GceNMGQfxOTD",
        "colab_type": "code",
        "colab": {
          "base_uri": "https://localhost:8080/",
          "height": 1000
        },
        "outputId": "0f95980b-c77c-4d01-9a0c-a453760f6b55"
      },
      "source": [
        "eps , centroids, error, cnt_it= 0.01, [np.array([2, 10]), np.array((5, 8)), np.array((1, 2))], 1, 0\n",
        "while error > eps:\n",
        "  cnt_it, dct, means = cnt_it+1, defaultdict(list), np.zeros(shape = (3,2))\n",
        "  print('Clusters shown, And the means are shown in black')\n",
        "  for i in range(len(data)):\n",
        "    best, arg = 1000, -1\n",
        "    for j in range(len(centroids)):\n",
        "      dist = np.linalg.norm(data[i] - centroids[j])\n",
        "      if dist < best:\n",
        "        best, arg = dist, j\n",
        "    dct[arg].append(i)\n",
        "  error = 0\n",
        "  ls_new = []\n",
        "  for k, v in dct.items():\n",
        "    cnt, tot = len(v), np.zeros_like(data[0])\n",
        "    for i in range(len(v)):\n",
        "      tot = tot + data[v[i]]\n",
        "    new_mean = tot / cnt\n",
        "    error += np.linalg.norm(centroids[k] - new_mean)\n",
        "    ls_new.append(new_mean)\n",
        "    my_data, means[k] = data[v], new_mean\n",
        "    plt.scatter(my_data[:,0], my_data[:,1], label = 'cluster {}'.format(k + 1))\n",
        "  centroids= ls_new\n",
        "  plt.scatter(means[:,0], means[:,1], color = 'black', label = 'mean') \n",
        "  plt.title('Iteration %d' % cnt_it)\n",
        "  plt.legend()\n",
        "  plt.show()\n",
        "  plt.close()\n",
        "print('For error converge to less than 0.01, it took %d iterations!' % cnt_it)"
      ],
      "execution_count": 258,
      "outputs": [
        {
          "output_type": "stream",
          "text": [
            "Clusters shown, And the means are shown in black\n"
          ],
          "name": "stdout"
        },
        {
          "output_type": "display_data",
          "data": {
            "image/png": "[encoded data removed]",
            "text/plain": [
              "<Figure size 432x288 with 1 Axes>"
            ]
          },
          "metadata": {
            "tags": []
          }
        },
        {
          "output_type": "stream",
          "text": [
            "Clusters shown, And the means are shown in black\n"
          ],
          "name": "stdout"
        },
        {
          "output_type": "display_data",
          "data": {
            "image/png": "[encoded data removed]",
            "text/plain": [
              "<Figure size 432x288 with 1 Axes>"
            ]
          },
          "metadata": {
            "tags": []
          }
        },
        {
          "output_type": "stream",
          "text": [
            "Clusters shown, And the means are shown in black\n"
          ],
          "name": "stdout"
        },
        {
          "output_type": "display_data",
          "data": {
            "image/png": "[encoded data removed]",
            "text/plain": [
              "<Figure size 432x288 with 1 Axes>"
            ]
          },
          "metadata": {
            "tags": []
          }
        },
        {
          "output_type": "stream",
          "text": [
            "Clusters shown, And the means are shown in black\n"
          ],
          "name": "stdout"
        },
        {
          "output_type": "display_data",
          "data": {
            "image/png": "[encoded data removed]",
            "text/plain": [
              "<Figure size 432x288 with 1 Axes>"
            ]
          },
          "metadata": {
            "tags": []
          }
        },
        {
          "output_type": "stream",
          "text": [
            "For error converge to less than 0.01, it took 4 iterations!\n"
          ],
          "name": "stdout"
        }
      ]
    }
  ]
}